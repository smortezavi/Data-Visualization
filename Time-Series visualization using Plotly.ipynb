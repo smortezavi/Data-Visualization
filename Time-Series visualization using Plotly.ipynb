{
 "cells": [
  {
   "cell_type": "markdown",
   "metadata": {
    "heading_collapsed": true
   },
   "source": [
    "## Time-Series Visualization using plotly\n",
    "\n",
    "### Siavash Mortezavi"
   ]
  },
  {
   "cell_type": "markdown",
   "metadata": {
    "heading_collapsed": true
   },
   "source": [
    "## Imports"
   ]
  },
  {
   "cell_type": "markdown",
   "metadata": {
    "hidden": true
   },
   "source": [
    "### Important make sure to create an account with plotly and enter username and api key below in imports"
   ]
  },
  {
   "cell_type": "code",
   "execution_count": 61,
   "metadata": {
    "collapsed": true,
    "hidden": true
   },
   "outputs": [],
   "source": [
    "import plotly\n",
    "# Create an account with plotly and make a useranme and get api key\n",
    "plotly.tools.set_credentials_file(username='usernmae', api_key='API_KEY')"
   ]
  },
  {
   "cell_type": "code",
   "execution_count": 35,
   "metadata": {
    "hidden": true
   },
   "outputs": [],
   "source": [
    "import pandas as pd\n",
    "import numpy as np\n",
    "import datetime as datetime\n",
    "import plotly.plotly as py\n",
    "import plotly.figure_factory as ff\n",
    "import plotly.graph_objs as go\n",
    "from plotly.graph_objs import *\n",
    "%matplotlib inline"
   ]
  },
  {
   "cell_type": "markdown",
   "metadata": {
    "heading_collapsed": true
   },
   "source": [
    "## Data\n",
    "\n",
    "We will start by exploring the SF Monthly Property Crime Data:\n",
    "\n",
    "Link: https://www.cs.usfca.edu/~apjoshi/msds622/data/Monthly_Property_Crime_2005_to_2015.csv"
   ]
  },
  {
   "cell_type": "markdown",
   "metadata": {
    "heading_collapsed": true
   },
   "source": [
    "## Cleaning"
   ]
  },
  {
   "cell_type": "code",
   "execution_count": 4,
   "metadata": {
    "collapsed": true,
    "hidden": true
   },
   "outputs": [],
   "source": [
    "prop_crime_df = pd.read_csv('../data/Monthly_Property_Crime_2005_to_2015.csv')"
   ]
  },
  {
   "cell_type": "code",
   "execution_count": 5,
   "metadata": {
    "hidden": true
   },
   "outputs": [
    {
     "data": {
      "text/html": [
       "<div>\n",
       "<style scoped>\n",
       "    .dataframe tbody tr th:only-of-type {\n",
       "        vertical-align: middle;\n",
       "    }\n",
       "\n",
       "    .dataframe tbody tr th {\n",
       "        vertical-align: top;\n",
       "    }\n",
       "\n",
       "    .dataframe thead th {\n",
       "        text-align: right;\n",
       "    }\n",
       "</style>\n",
       "<table border=\"1\" class=\"dataframe\">\n",
       "  <thead>\n",
       "    <tr style=\"text-align: right;\">\n",
       "      <th></th>\n",
       "      <th>Date</th>\n",
       "      <th>Category</th>\n",
       "      <th>IncidntNum</th>\n",
       "    </tr>\n",
       "  </thead>\n",
       "  <tbody>\n",
       "    <tr>\n",
       "      <th>0</th>\n",
       "      <td>02/01/2014 12:00:00 AM</td>\n",
       "      <td>BURGLARY</td>\n",
       "      <td>506</td>\n",
       "    </tr>\n",
       "    <tr>\n",
       "      <th>1</th>\n",
       "      <td>02/01/2007 12:00:00 AM</td>\n",
       "      <td>VANDALISM</td>\n",
       "      <td>531</td>\n",
       "    </tr>\n",
       "    <tr>\n",
       "      <th>2</th>\n",
       "      <td>07/01/2012 12:00:00 AM</td>\n",
       "      <td>BURGLARY</td>\n",
       "      <td>522</td>\n",
       "    </tr>\n",
       "    <tr>\n",
       "      <th>3</th>\n",
       "      <td>07/01/2013 12:00:00 AM</td>\n",
       "      <td>LARCENY/THEFT</td>\n",
       "      <td>3318</td>\n",
       "    </tr>\n",
       "    <tr>\n",
       "      <th>4</th>\n",
       "      <td>08/01/2010 12:00:00 AM</td>\n",
       "      <td>VANDALISM</td>\n",
       "      <td>694</td>\n",
       "    </tr>\n",
       "    <tr>\n",
       "      <th>5</th>\n",
       "      <td>10/01/2011 12:00:00 AM</td>\n",
       "      <td>BURGLARY</td>\n",
       "      <td>421</td>\n",
       "    </tr>\n",
       "    <tr>\n",
       "      <th>6</th>\n",
       "      <td>07/01/2006 12:00:00 AM</td>\n",
       "      <td>VEHICLE THEFT</td>\n",
       "      <td>673</td>\n",
       "    </tr>\n",
       "    <tr>\n",
       "      <th>7</th>\n",
       "      <td>08/01/2011 12:00:00 AM</td>\n",
       "      <td>LARCENY/THEFT</td>\n",
       "      <td>2148</td>\n",
       "    </tr>\n",
       "    <tr>\n",
       "      <th>8</th>\n",
       "      <td>12/01/2014 12:00:00 AM</td>\n",
       "      <td>STOLEN PROPERTY</td>\n",
       "      <td>90</td>\n",
       "    </tr>\n",
       "    <tr>\n",
       "      <th>9</th>\n",
       "      <td>12/01/2012 12:00:00 AM</td>\n",
       "      <td>STOLEN PROPERTY</td>\n",
       "      <td>81</td>\n",
       "    </tr>\n",
       "  </tbody>\n",
       "</table>\n",
       "</div>"
      ],
      "text/plain": [
       "                     Date         Category  IncidntNum\n",
       "0  02/01/2014 12:00:00 AM         BURGLARY         506\n",
       "1  02/01/2007 12:00:00 AM        VANDALISM         531\n",
       "2  07/01/2012 12:00:00 AM         BURGLARY         522\n",
       "3  07/01/2013 12:00:00 AM    LARCENY/THEFT        3318\n",
       "4  08/01/2010 12:00:00 AM        VANDALISM         694\n",
       "5  10/01/2011 12:00:00 AM         BURGLARY         421\n",
       "6  07/01/2006 12:00:00 AM    VEHICLE THEFT         673\n",
       "7  08/01/2011 12:00:00 AM    LARCENY/THEFT        2148\n",
       "8  12/01/2014 12:00:00 AM  STOLEN PROPERTY          90\n",
       "9  12/01/2012 12:00:00 AM  STOLEN PROPERTY          81"
      ]
     },
     "execution_count": 5,
     "metadata": {},
     "output_type": "execute_result"
    }
   ],
   "source": [
    "prop_crime_df.head(10)"
   ]
  },
  {
   "cell_type": "code",
   "execution_count": 6,
   "metadata": {
    "hidden": true
   },
   "outputs": [
    {
     "data": {
      "text/plain": [
       "Date          object\n",
       "Category      object\n",
       "IncidntNum     int64\n",
       "dtype: object"
      ]
     },
     "execution_count": 6,
     "metadata": {},
     "output_type": "execute_result"
    }
   ],
   "source": [
    "prop_crime_df.dtypes"
   ]
  },
  {
   "cell_type": "code",
   "execution_count": 7,
   "metadata": {
    "hidden": true
   },
   "outputs": [
    {
     "data": {
      "text/plain": [
       "Date          0\n",
       "Category      0\n",
       "IncidntNum    0\n",
       "dtype: int64"
      ]
     },
     "execution_count": 7,
     "metadata": {},
     "output_type": "execute_result"
    }
   ],
   "source": [
    "np.sum(prop_crime_df.isnull())"
   ]
  },
  {
   "cell_type": "code",
   "execution_count": 8,
   "metadata": {
    "hidden": true
   },
   "outputs": [],
   "source": [
    "# Fix types\n",
    "prop_crime_df['Category'] = prop_crime_df['Category'].astype('category')\n",
    "prop_crime_df['Date'] = pd.to_datetime(prop_crime_df['Date'])"
   ]
  },
  {
   "cell_type": "code",
   "execution_count": 9,
   "metadata": {
    "hidden": true
   },
   "outputs": [
    {
     "data": {
      "text/plain": [
       "Date          datetime64[ns]\n",
       "Category            category\n",
       "IncidntNum             int64\n",
       "dtype: object"
      ]
     },
     "execution_count": 9,
     "metadata": {},
     "output_type": "execute_result"
    }
   ],
   "source": [
    "prop_crime_df.dtypes"
   ]
  },
  {
   "cell_type": "code",
   "execution_count": 10,
   "metadata": {
    "hidden": true
   },
   "outputs": [],
   "source": [
    "prop_crime_df = prop_crime_df.sort_values(by='Date')"
   ]
  },
  {
   "cell_type": "code",
   "execution_count": 11,
   "metadata": {
    "hidden": true
   },
   "outputs": [],
   "source": [
    "prop_crime_df = prop_crime_df.reset_index(drop = True)"
   ]
  },
  {
   "cell_type": "code",
   "execution_count": 12,
   "metadata": {
    "hidden": true
   },
   "outputs": [
    {
     "data": {
      "text/html": [
       "<div>\n",
       "<style scoped>\n",
       "    .dataframe tbody tr th:only-of-type {\n",
       "        vertical-align: middle;\n",
       "    }\n",
       "\n",
       "    .dataframe tbody tr th {\n",
       "        vertical-align: top;\n",
       "    }\n",
       "\n",
       "    .dataframe thead th {\n",
       "        text-align: right;\n",
       "    }\n",
       "</style>\n",
       "<table border=\"1\" class=\"dataframe\">\n",
       "  <thead>\n",
       "    <tr style=\"text-align: right;\">\n",
       "      <th></th>\n",
       "      <th>Date</th>\n",
       "      <th>Category</th>\n",
       "      <th>IncidntNum</th>\n",
       "    </tr>\n",
       "  </thead>\n",
       "  <tbody>\n",
       "    <tr>\n",
       "      <th>0</th>\n",
       "      <td>2005-01-01</td>\n",
       "      <td>ARSON</td>\n",
       "      <td>21</td>\n",
       "    </tr>\n",
       "    <tr>\n",
       "      <th>1</th>\n",
       "      <td>2005-01-01</td>\n",
       "      <td>STOLEN PROPERTY</td>\n",
       "      <td>56</td>\n",
       "    </tr>\n",
       "    <tr>\n",
       "      <th>2</th>\n",
       "      <td>2005-01-01</td>\n",
       "      <td>VANDALISM</td>\n",
       "      <td>493</td>\n",
       "    </tr>\n",
       "    <tr>\n",
       "      <th>3</th>\n",
       "      <td>2005-01-01</td>\n",
       "      <td>BURGLARY</td>\n",
       "      <td>698</td>\n",
       "    </tr>\n",
       "    <tr>\n",
       "      <th>4</th>\n",
       "      <td>2005-01-01</td>\n",
       "      <td>VEHICLE THEFT</td>\n",
       "      <td>1685</td>\n",
       "    </tr>\n",
       "  </tbody>\n",
       "</table>\n",
       "</div>"
      ],
      "text/plain": [
       "        Date         Category  IncidntNum\n",
       "0 2005-01-01            ARSON          21\n",
       "1 2005-01-01  STOLEN PROPERTY          56\n",
       "2 2005-01-01        VANDALISM         493\n",
       "3 2005-01-01         BURGLARY         698\n",
       "4 2005-01-01    VEHICLE THEFT        1685"
      ]
     },
     "execution_count": 12,
     "metadata": {},
     "output_type": "execute_result"
    }
   ],
   "source": [
    "prop_crime_df.head(5)"
   ]
  },
  {
   "cell_type": "markdown",
   "metadata": {
    "heading_collapsed": true
   },
   "source": [
    "## Exploration"
   ]
  },
  {
   "cell_type": "code",
   "execution_count": 13,
   "metadata": {
    "hidden": true
   },
   "outputs": [],
   "source": [
    "arson = prop_crime_df[prop_crime_df['Category'] == 'ARSON']\n",
    "stolen_property = prop_crime_df[prop_crime_df['Category'] == 'STOLEN PROPERTY']\n",
    "vandalism = prop_crime_df[prop_crime_df['Category'] == 'VANDALISM']\n",
    "burglary = prop_crime_df[prop_crime_df['Category'] == 'BURGLARY']\n",
    "vehicle_theft = prop_crime_df[prop_crime_df['Category'] == 'VEHICLE THEFT']\n",
    "larceny_theft = prop_crime_df[prop_crime_df['Category'] == 'LARCENY/THEFT']"
   ]
  },
  {
   "cell_type": "code",
   "execution_count": 14,
   "metadata": {
    "collapsed": true,
    "hidden": true
   },
   "outputs": [],
   "source": [
    "crimes = [arson,stolen_property,vandalism,burglary,vehicle_theft,larceny_theft]"
   ]
  },
  {
   "cell_type": "markdown",
   "metadata": {},
   "source": [
    "## Graphing"
   ]
  },
  {
   "cell_type": "code",
   "execution_count": 16,
   "metadata": {},
   "outputs": [
    {
     "data": {
      "text/html": [
       "<iframe id=\"igraph\" scrolling=\"no\" style=\"border:none;\" seamless=\"seamless\" src=\"https://plot.ly/~jigull/5.embed\" height=\"525px\" width=\"100%\"></iframe>"
      ],
      "text/plain": [
       "<plotly.tools.PlotlyDisplay object>"
      ]
     },
     "execution_count": 16,
     "metadata": {},
     "output_type": "execute_result"
    }
   ],
   "source": [
    "## Time Series Plot with datetime Objects\n",
    "\n",
    "df = arson\n",
    "data = [go.Scatter(x=df.Date, y = df.IncidntNum)]\n",
    "py.iplot(data, filename = 'Arson')"
   ]
  },
  {
   "cell_type": "code",
   "execution_count": 17,
   "metadata": {},
   "outputs": [
    {
     "data": {
      "text/html": [
       "<iframe id=\"igraph\" scrolling=\"no\" style=\"border:none;\" seamless=\"seamless\" src=\"https://plot.ly/~jigull/5.embed\" height=\"525px\" width=\"100%\"></iframe>"
      ],
      "text/plain": [
       "<plotly.tools.PlotlyDisplay object>"
      ]
     },
     "execution_count": 17,
     "metadata": {},
     "output_type": "execute_result"
    }
   ],
   "source": [
    "#Time series bar charts\n",
    "\n",
    "df = arson\n",
    "data = [go.Bar(x=df.Date, y = df.IncidntNum)]\n",
    "py.iplot(data, filename = 'Arson')"
   ]
  },
  {
   "cell_type": "code",
   "execution_count": 31,
   "metadata": {},
   "outputs": [
    {
     "data": {
      "text/html": [
       "<iframe id=\"igraph\" scrolling=\"no\" style=\"border:none;\" seamless=\"seamless\" src=\"https://plot.ly/~jigull/7.embed\" height=\"525px\" width=\"100%\"></iframe>"
      ],
      "text/plain": [
       "<plotly.tools.PlotlyDisplay object>"
      ]
     },
     "execution_count": 31,
     "metadata": {},
     "output_type": "execute_result"
    }
   ],
   "source": [
    "#multi line chart\n",
    "\n",
    "\n",
    "\n",
    "arson_ = go.Scatter(\n",
    "                x=arson.Date,\n",
    "                y=arson.IncidntNum,\n",
    "                name = \"Arson\",\n",
    "                line = dict(color = '#17BECF'),\n",
    "                opacity = 0.8)\n",
    "\n",
    "stolen_property_ = go.Scatter(\n",
    "                x=stolen_property.Date,\n",
    "                y=stolen_property.IncidntNum,\n",
    "                name = \"Stolen_property\",\n",
    "                line = dict(color = '#7F7F7F'),\n",
    "                opacity = 0.8)\n",
    "\n",
    "vandalism_ = go.Scatter(\n",
    "                x=vandalism.Date,\n",
    "                y=vandalism.IncidntNum,\n",
    "                name = \"Vandalism\",\n",
    "                line = dict(color = 'green'),\n",
    "                opacity = 0.8)\n",
    "\n",
    "burglary_ = go.Scatter(\n",
    "                x=burglary.Date,\n",
    "                y=burglary.IncidntNum,\n",
    "                name = \"Burglary\",\n",
    "                line = dict(color = 'Blue'),\n",
    "                opacity = 0.8)\n",
    "\n",
    "vehicle_theft_ = go.Scatter(\n",
    "                x=vehicle_theft.Date,\n",
    "                y=vehicle_theft.IncidntNum,\n",
    "                name = \"Vandalism\",\n",
    "                line = dict(color = 'gray'),\n",
    "                opacity = 0.8)\n",
    "\n",
    "larceny_theft_ = go.Scatter(\n",
    "                x=larceny_theft.Date,\n",
    "                y=larceny_theft.IncidntNum,\n",
    "                name = \"Vandalism\",\n",
    "                line = dict(color = 'black'),\n",
    "                opacity = 0.8)\n",
    "\n",
    "data = [arson_,stolen_property_,vandalism_,burglary_,vehicle_theft_,larceny_theft_]\n",
    "\n",
    "layout = dict(\n",
    "    title = \"Crime\",\n",
    "    xaxis = dict(\n",
    "        range = ['2005-01-01','2015-12-01'])\n",
    ")\n",
    "\n",
    "fig = dict(data=data, layout=layout)\n",
    "py.iplot(fig, filename = \"Manually Set Range\")"
   ]
  },
  {
   "cell_type": "code",
   "execution_count": 33,
   "metadata": {},
   "outputs": [
    {
     "data": {
      "text/html": [
       "<iframe id=\"igraph\" scrolling=\"no\" style=\"border:none;\" seamless=\"seamless\" src=\"https://plot.ly/~jigull/9.embed\" height=\"525px\" width=\"100%\"></iframe>"
      ],
      "text/plain": [
       "<plotly.tools.PlotlyDisplay object>"
      ]
     },
     "execution_count": 33,
     "metadata": {},
     "output_type": "execute_result"
    }
   ],
   "source": [
    "#Time Series with rangeslider\n",
    "\n",
    "vandalism_ = go.Scatter(\n",
    "                x=vandalism.Date,\n",
    "                y=vandalism.IncidntNum,\n",
    "                name = \"Vandalism\",\n",
    "                line = dict(color = '#17BECF'),\n",
    "                opacity = 0.8)\n",
    "\n",
    "burglary_ = go.Scatter(\n",
    "                x=burglary.Date,\n",
    "                y=burglary.IncidntNum,\n",
    "                name = \"Burglary\",\n",
    "                line = dict(color = '#7F7F7F'),\n",
    "                opacity = 0.8)\n",
    "\n",
    "\n",
    "data = [vandalism_,burglary_]\n",
    "\n",
    "layout = dict(\n",
    "    title='Time Series with Rangeslider',\n",
    "    xaxis=dict(\n",
    "        rangeselector=dict(\n",
    "            buttons=list([\n",
    "                dict(count=1,\n",
    "                     label='1m',\n",
    "                     step='month',\n",
    "                     stepmode='backward'),\n",
    "                dict(count=6,\n",
    "                     label='6m',\n",
    "                     step='month',\n",
    "                     stepmode='backward'),\n",
    "                dict(step='all')\n",
    "            ])\n",
    "        ),\n",
    "        rangeslider=dict(),\n",
    "        type='date'\n",
    "    )\n",
    ")\n",
    "\n",
    "fig = dict(data=data, layout=layout)\n",
    "py.iplot(fig, filename = \"Time Series with Rangeslider\")"
   ]
  },
  {
   "cell_type": "code",
   "execution_count": 39,
   "metadata": {},
   "outputs": [
    {
     "data": {
      "text/html": [
       "<iframe id=\"igraph\" scrolling=\"no\" style=\"border:none;\" seamless=\"seamless\" src=\"https://plot.ly/~jigull/12.embed\" height=\"525px\" width=\"100%\"></iframe>"
      ],
      "text/plain": [
       "<plotly.tools.PlotlyDisplay object>"
      ]
     },
     "execution_count": 39,
     "metadata": {},
     "output_type": "execute_result"
    }
   ],
   "source": [
    "arson_ = go.Scatter(\n",
    "                x=arson.Date,\n",
    "                y=arson.IncidntNum,\n",
    "                name = \"Arson\",\n",
    "                marker = dict(color = '#17BECF')\n",
    "                )\n",
    "\n",
    "stolen_property_ = go.Bar(\n",
    "                x=stolen_property.Date,\n",
    "                y=stolen_property.IncidntNum,\n",
    "                name = \"Stolen_property\",\n",
    "                marker = dict(color = '#7F7F7F')\n",
    "                )\n",
    "\n",
    "vandalism_ = go.Bar(\n",
    "                x=vandalism.Date,\n",
    "                y=vandalism.IncidntNum,\n",
    "                name = \"Vandalism\",\n",
    "                marker = dict(color = 'green')\n",
    "                )\n",
    "\n",
    "burglary_ = go.Bar(\n",
    "                x=burglary.Date,\n",
    "                y=burglary.IncidntNum,\n",
    "                name = \"Burglary\",\n",
    "                marker = dict(color = 'Blue')\n",
    "                )\n",
    "\n",
    "vehicle_theft_ = go.Bar(\n",
    "                x=vehicle_theft.Date,\n",
    "                y=vehicle_theft.IncidntNum,\n",
    "                name = \"Vandalism\",\n",
    "                marker = dict(color = 'gray')\n",
    "                )\n",
    "\n",
    "larceny_theft_ = go.Bar(\n",
    "                x=larceny_theft.Date,\n",
    "                y=larceny_theft.IncidntNum,\n",
    "                name = \"Vandalism\",\n",
    "                marker = dict(color = 'black')\n",
    "                )\n",
    "\n",
    "data = [arson_,stolen_property_,vandalism_,burglary_,vehicle_theft_,larceny_theft_]\n",
    "\n",
    "\n",
    "\n",
    "\n",
    "layout = Layout(title=\"Crime\",\n",
    "                xaxis=dict(title='Year'),\n",
    "                yaxis=dict(title='number of occurances'))\n",
    "fig = Figure(data=data, layout=layout)\n",
    "py.iplot(fig, filename = \"Time Series Stacked bar charts\")"
   ]
  },
  {
   "cell_type": "code",
   "execution_count": 60,
   "metadata": {},
   "outputs": [
    {
     "data": {
      "text/html": [
       "<iframe id=\"igraph\" scrolling=\"no\" style=\"border:none;\" seamless=\"seamless\" src=\"https://plot.ly/~jigull/14.embed\" height=\"525px\" width=\"100%\"></iframe>"
      ],
      "text/plain": [
       "<plotly.tools.PlotlyDisplay object>"
      ]
     },
     "execution_count": 60,
     "metadata": {},
     "output_type": "execute_result"
    }
   ],
   "source": [
    "# Heatmap with Datetime Axis\n",
    "\n",
    "larceny_theft_ = go.Bar(\n",
    "                x=larceny_theft.Date,\n",
    "                y=larceny_theft.IncidntNum,\n",
    "                name = \"Vandalism\",\n",
    "                marker = dict(color = 'black')\n",
    "                )\n",
    "\n",
    "#programmers = ['Alex','Nicole','Sara','Etienne','Chelsea','Jody','Marianne']\n",
    "\n",
    "crimes = [arson,stolen_property,vandalism,burglary,vehicle_theft,larceny_theft]\n",
    "\n",
    "crimes_ = ['arson','stolen_property','vandalism','burglary','vehicle_theft','larceny_theft']\n",
    "#base = datetime.datetime.today()\n",
    "\n",
    "date_list = list(arson.Date)\n",
    "#date_list = [base - datetime.timedelta(days=x) for x in range(0, 180)]\n",
    "\n",
    "\n",
    "z = []\n",
    "\n",
    "for crime in crimes:\n",
    "    z.append(np.array(crime.IncidntNum))\n",
    "\n",
    "\n",
    "#for prgmr in programmers:\n",
    "#    new_row = []\n",
    "#    for date in date_list:\n",
    "#        new_row.append( np.random.poisson() )\n",
    "#    z.append(list(new_row))\n",
    "\n",
    "data = [\n",
    "    go.Heatmap(\n",
    "        z=z,\n",
    "        x=date_list,\n",
    "        y=crimes_,\n",
    "        colorscale='Viridis',\n",
    "    )\n",
    "]\n",
    "\n",
    "layout = go.Layout(\n",
    "    title='Crimes',\n",
    "    xaxis = dict(ticks='', nticks=6),\n",
    "    yaxis = dict(ticks='' )\n",
    ")\n",
    "\n",
    "fig = go.Figure(data=data, layout=layout)\n",
    "py.iplot(fig, filename='datetime-heatmap')"
   ]
  },
  {
   "cell_type": "code",
   "execution_count": null,
   "metadata": {
    "collapsed": true
   },
   "outputs": [],
   "source": []
  }
 ],
 "metadata": {
  "kernelspec": {
   "display_name": "Python 3",
   "language": "python",
   "name": "python3"
  }
 },
 "nbformat": 4,
 "nbformat_minor": 2
}
