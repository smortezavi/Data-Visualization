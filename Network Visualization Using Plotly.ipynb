{
 "cells": [
  {
   "cell_type": "markdown",
   "metadata": {},
   "source": [
    "## Network Visualization using networkx and Plotly\n",
    "\n",
    "by Siavash Mortezavi\n",
    "\n"
   ]
  },
  {
   "cell_type": "markdown",
   "metadata": {},
   "source": [
    "## To run this notebook on your maching enter your username and api-key under imports for plotly to begin"
   ]
  },
  {
   "cell_type": "markdown",
   "metadata": {
    "heading_collapsed": true
   },
   "source": [
    "## Imports"
   ]
  },
  {
   "cell_type": "code",
   "execution_count": 1,
   "metadata": {
    "collapsed": true,
    "hidden": true
   },
   "outputs": [],
   "source": [
    "import plotly.plotly as py\n",
    "from plotly.graph_objs import *\n"
   ]
  },
  {
   "cell_type": "code",
   "execution_count": 2,
   "metadata": {
    "collapsed": true,
    "hidden": true
   },
   "outputs": [],
   "source": [
    "import plotly\n",
    "# Create an account with plotly and make a useranme and get api key\n",
    "plotly.tools.set_credentials_file(username='username', api_key='your key')"
   ]
  },
  {
   "cell_type": "code",
   "execution_count": 3,
   "metadata": {
    "collapsed": true,
    "hidden": true
   },
   "outputs": [],
   "source": [
    "import matplotlib.pyplot as plt\n",
    "import pylab\n",
    "from sklearn import datasets\n",
    "from sklearn.decomposition import PCA\n",
    "import pandas as pd\n",
    "import numpy as np\n",
    "from random import choice\n",
    "import scipy as sp\n",
    "import networkx as nx\n",
    "\n",
    "\n",
    "%matplotlib inline\n",
    "import warnings\n",
    "warnings.filterwarnings('ignore')"
   ]
  },
  {
   "cell_type": "markdown",
   "metadata": {
    "heading_collapsed": true
   },
   "source": [
    "## Function"
   ]
  },
  {
   "cell_type": "code",
   "execution_count": 4,
   "metadata": {
    "collapsed": true,
    "hidden": true
   },
   "outputs": [],
   "source": [
    "def draw_adjacency_matrix(G, node_order=None, partitions=[], colors=[]):\n",
    "    \"\"\"\n",
    "    - G is a netorkx graph\n",
    "    - node_order (optional) is a list of nodes, where each node in G\n",
    "          appears exactly once\n",
    "    - partitions is a list of node lists, where each node in G appears\n",
    "          in exactly one node list\n",
    "    - colors is a list of strings indicating what color each\n",
    "          partition should be\n",
    "    If partitions is specified, the same number of colors needs to be\n",
    "    specified.\n",
    "    \"\"\"\n",
    "    adjacency_matrix = nx.to_numpy_matrix(G, dtype=np.bool, nodelist=node_order)\n",
    "\n",
    "    #Plot adjacency matrix in toned-down black and white\n",
    "    fig = plt.figure(figsize=(5, 5)) # in inches\n",
    "    plt.imshow(adjacency_matrix,\n",
    "                  cmap=\"Greys\",\n",
    "                  interpolation=\"none\")\n",
    "    \n",
    "    # The rest is just if you have sorted nodes by a partition and want to\n",
    "    # highlight the module boundaries\n",
    "    assert len(partitions) == len(colors)\n",
    "    ax = plt.gca()\n",
    "    for partition, color in zip(partitions, colors):\n",
    "        current_idx = 0\n",
    "        for module in partition:\n",
    "            ax.add_patch(patches.Rectangle((current_idx, current_idx),\n",
    "                                          len(module), # Width\n",
    "                                          len(module), # Height\n",
    "                                          facecolor=\"none\",\n",
    "                                          edgecolor=color,\n",
    "                                          linewidth=\"1\"))\n",
    "            current_idx += len(module)"
   ]
  },
  {
   "cell_type": "code",
   "execution_count": 5,
   "metadata": {
    "collapsed": true,
    "hidden": true
   },
   "outputs": [],
   "source": [
    "def create_graph_and_adjacancy_matrix(X, threshhold):\n",
    "    for i in range(X.shape[0]):\n",
    "        for j in range(X.shape[0]):\n",
    "            if np.linalg.norm(X[i] - X[j]) > threshhold:\n",
    "                continue\n",
    "            else:\n",
    "                g.add_weighted_edges_from([(i,j,np.linalg.norm(X[i] - X[j]))])"
   ]
  },
  {
   "cell_type": "markdown",
   "metadata": {
    "heading_collapsed": true
   },
   "source": [
    "##  Create a graph add nodes and edges and display adjacency matrix"
   ]
  },
  {
   "cell_type": "code",
   "execution_count": 6,
   "metadata": {
    "collapsed": true,
    "hidden": true
   },
   "outputs": [],
   "source": [
    "# Create my graph object\n",
    "G = nx.Graph()"
   ]
  },
  {
   "cell_type": "code",
   "execution_count": 7,
   "metadata": {
    "collapsed": true,
    "hidden": true
   },
   "outputs": [],
   "source": [
    "# I can add a single node \n",
    "G.add_node(1)"
   ]
  },
  {
   "cell_type": "code",
   "execution_count": 8,
   "metadata": {
    "hidden": true
   },
   "outputs": [
    {
     "data": {
      "text/plain": [
       "[1]"
      ]
     },
     "execution_count": 8,
     "metadata": {},
     "output_type": "execute_result"
    }
   ],
   "source": [
    "G.nodes()"
   ]
  },
  {
   "cell_type": "code",
   "execution_count": 9,
   "metadata": {
    "collapsed": true,
    "hidden": true
   },
   "outputs": [],
   "source": [
    "# or multiple nodes\n",
    "G.add_nodes_from([2, 5, 4])"
   ]
  },
  {
   "cell_type": "code",
   "execution_count": 10,
   "metadata": {
    "hidden": true
   },
   "outputs": [
    {
     "data": {
      "text/plain": [
       "[1, 2, 5, 4]"
      ]
     },
     "execution_count": 10,
     "metadata": {},
     "output_type": "execute_result"
    }
   ],
   "source": [
    "G.nodes()"
   ]
  },
  {
   "cell_type": "code",
   "execution_count": 11,
   "metadata": {
    "collapsed": true,
    "hidden": true
   },
   "outputs": [],
   "source": [
    "# add a single edge without weights\n",
    "\n",
    "G.add_edge(1,5)"
   ]
  },
  {
   "cell_type": "code",
   "execution_count": 12,
   "metadata": {
    "collapsed": true,
    "hidden": true
   },
   "outputs": [],
   "source": [
    "# add a singled edge with weights\n",
    "\n",
    "G.add_edge(3,5,weight =.1)"
   ]
  },
  {
   "cell_type": "code",
   "execution_count": 13,
   "metadata": {
    "hidden": true
   },
   "outputs": [
    {
     "name": "stdout",
     "output_type": "stream",
     "text": [
      "  (0, 2)\t1.0\n",
      "  (2, 0)\t1.0\n",
      "  (2, 4)\t0.1\n",
      "  (4, 2)\t0.1\n"
     ]
    }
   ],
   "source": [
    "# Look at the adjacency matrix\n",
    "print(nx.adjacency_matrix(G))"
   ]
  },
  {
   "cell_type": "code",
   "execution_count": 14,
   "metadata": {
    "collapsed": true,
    "hidden": true
   },
   "outputs": [],
   "source": [
    "# add multiple edges , nodes and weights\n",
    "\n",
    "G.add_weighted_edges_from([(1, 2, .3), (2, 7, .6), (3, 5, .7)])"
   ]
  },
  {
   "cell_type": "code",
   "execution_count": 15,
   "metadata": {
    "hidden": true
   },
   "outputs": [
    {
     "name": "stdout",
     "output_type": "stream",
     "text": [
      "  (0, 1)\t0.3\n",
      "  (0, 2)\t1.0\n",
      "  (1, 0)\t0.3\n",
      "  (1, 5)\t0.6\n",
      "  (2, 0)\t1.0\n",
      "  (2, 4)\t0.7\n",
      "  (4, 2)\t0.7\n",
      "  (5, 1)\t0.6\n"
     ]
    }
   ],
   "source": [
    "# Look at the adjacency matrix\n",
    "print(nx.adjacency_matrix(G))"
   ]
  },
  {
   "cell_type": "markdown",
   "metadata": {},
   "source": [
    "## visualize adjacency matrix"
   ]
  },
  {
   "cell_type": "code",
   "execution_count": 16,
   "metadata": {},
   "outputs": [
    {
     "data": {
      "image/png": "[encoded data removed]",
      "text/plain": [
       "<Figure size 360x360 with 1 Axes>"
      ]
     },
     "metadata": {},
     "output_type": "display_data"
    }
   ],
   "source": [
    "draw_adjacency_matrix(G)"
   ]
  },
  {
   "cell_type": "code",
   "execution_count": 17,
   "metadata": {},
   "outputs": [
    {
     "data": {
      "image/png": "[encoded data removed]",
      "text/plain": [
       "<Figure size 432x288 with 1 Axes>"
      ]
     },
     "metadata": {},
     "output_type": "display_data"
    }
   ],
   "source": [
    "# visualize the Network\n",
    "\n",
    "nx.draw(G)"
   ]
  },
  {
   "cell_type": "markdown",
   "metadata": {},
   "source": [
    "## Visualize a graph generated from CSV files Using Plotly\n",
    "\n",
    "To demonstrate this I will use the Iris data set. "
   ]
  },
  {
   "cell_type": "markdown",
   "metadata": {},
   "source": [
    "## Data"
   ]
  },
  {
   "cell_type": "code",
   "execution_count": 18,
   "metadata": {
    "collapsed": true
   },
   "outputs": [],
   "source": [
    "iris = datasets.load_iris()"
   ]
  },
  {
   "cell_type": "code",
   "execution_count": 19,
   "metadata": {},
   "outputs": [
    {
     "data": {
      "text/plain": [
       "['sepal length (cm)',\n",
       " 'sepal width (cm)',\n",
       " 'petal length (cm)',\n",
       " 'petal width (cm)']"
      ]
     },
     "execution_count": 19,
     "metadata": {},
     "output_type": "execute_result"
    }
   ],
   "source": [
    "iris.feature_names"
   ]
  },
  {
   "cell_type": "code",
   "execution_count": 20,
   "metadata": {},
   "outputs": [
    {
     "data": {
      "text/plain": [
       "array(['setosa', 'versicolor', 'virginica'], dtype='<U10')"
      ]
     },
     "execution_count": 20,
     "metadata": {},
     "output_type": "execute_result"
    }
   ],
   "source": [
    "iris.target_names"
   ]
  },
  {
   "cell_type": "code",
   "execution_count": 21,
   "metadata": {
    "collapsed": true
   },
   "outputs": [],
   "source": [
    "X = iris.data\n",
    "y = iris.target"
   ]
  },
  {
   "cell_type": "markdown",
   "metadata": {},
   "source": [
    "## Create the network and Graph the adjacency matrix and the Network"
   ]
  },
  {
   "cell_type": "code",
   "execution_count": 22,
   "metadata": {
    "collapsed": true
   },
   "outputs": [],
   "source": [
    "# Crete an empty graph\n",
    "\n",
    "g = nx.Graph()"
   ]
  },
  {
   "cell_type": "code",
   "execution_count": 23,
   "metadata": {
    "collapsed": true
   },
   "outputs": [],
   "source": [
    "# populates the graph and its weights using L2 distance with threshold .4\n",
    "# Each node is an observation from our dataset. \n",
    "create_graph_and_adjacancy_matrix(X, .4)"
   ]
  },
  {
   "cell_type": "code",
   "execution_count": 24,
   "metadata": {
    "collapsed": true
   },
   "outputs": [],
   "source": [
    "# Creates adjancy matrix\n",
    "adj_matrix  = nx.adjacency_matrix(g)"
   ]
  },
  {
   "cell_type": "code",
   "execution_count": 25,
   "metadata": {},
   "outputs": [
    {
     "name": "stdout",
     "output_type": "stream",
     "text": [
      "  (0, 0)\t0.0\n",
      "  (0, 1)\t0.1414213562373093\n",
      "  (0, 2)\t0.17320508075688762\n",
      "  (0, 3)\t0.37416573867739483\n",
      "  (0, 4)\t0.3741657386773941\n",
      "  (0, 5)\t0.09999999999999998\n",
      "  (0, 6)\t0.33166247903553986\n",
      "  (0, 7)\t0.30000000000000016\n",
      "  (0, 8)\t0.316227766016838\n",
      "  (0, 9)\t0.14142135623730995\n",
      "  (0, 10)\t0.14142135623730995\n",
      "  (0, 11)\t0.3872983346207423\n",
      "  (0, 12)\t0.37416573867739383\n",
      "  (0, 13)\t0.14142135623730964\n",
      "  (0, 14)\t0.17320508075688743\n",
      "  (0, 15)\t0.3605551275463989\n",
      "  (0, 16)\t0.30000000000000027\n",
      "  (0, 17)\t0.22360679774997896\n",
      "  (1, 0)\t0.1414213562373093\n",
      "  (1, 1)\t0.0\n",
      "  (1, 2)\t0.22360679774997916\n",
      "  (1, 4)\t0.3464101615137758\n",
      "  (1, 5)\t0.17320508075688756\n",
      "  (1, 6)\t0.26457513110645875\n",
      "  (1, 7)\t0.264575131106459\n",
      "  :\t:\n",
      "  (138, 139)\t0.2449489742783171\n",
      "  (139, 131)\t0.3000000000000001\n",
      "  (139, 138)\t0.2449489742783171\n",
      "  (139, 139)\t0.0\n",
      "  (140, 140)\t0.0\n",
      "  (141, 141)\t0.0\n",
      "  (142, 142)\t0.0\n",
      "  (143, 111)\t0.30000000000000016\n",
      "  (143, 119)\t0.3999999999999999\n",
      "  (143, 121)\t0.24494897427831785\n",
      "  (143, 122)\t0.31622776601683794\n",
      "  (143, 143)\t0.0\n",
      "  (144, 97)\t0.24494897427831838\n",
      "  (144, 98)\t0.2828427124746193\n",
      "  (144, 101)\t0.17320508075688762\n",
      "  (144, 133)\t0.38729833462074154\n",
      "  (144, 144)\t0.0\n",
      "  (145, 112)\t0.3464101615137756\n",
      "  (145, 145)\t0.0\n",
      "  (146, 146)\t0.0\n",
      "  (147, 147)\t0.0\n",
      "  (148, 148)\t0.0\n",
      "  (149, 135)\t0.3605551275463994\n",
      "  (149, 136)\t0.24494897427831822\n",
      "  (149, 149)\t0.0\n"
     ]
    }
   ],
   "source": [
    "# The adjacecny Matrix\n",
    "print(adj_matrix)"
   ]
  },
  {
   "cell_type": "markdown",
   "metadata": {},
   "source": [
    "## Visualize Adjacency Matrix"
   ]
  },
  {
   "cell_type": "code",
   "execution_count": 26,
   "metadata": {},
   "outputs": [
    {
     "data": {
      "image/png": "[encoded data removed]",
      "text/plain": [
       "<Figure size 360x360 with 1 Axes>"
      ]
     },
     "metadata": {},
     "output_type": "display_data"
    }
   ],
   "source": [
    "# The adjacency matrix visualized \n",
    "draw_adjacency_matrix(g)"
   ]
  },
  {
   "cell_type": "markdown",
   "metadata": {},
   "source": [
    "## First let's get a quickview of the network using matplotlib"
   ]
  },
  {
   "cell_type": "code",
   "execution_count": 27,
   "metadata": {
    "code_folding": []
   },
   "outputs": [
    {
     "data": {
      "image/png": "[encoded data removed]",
      "text/plain": [
       "<Figure size 432x288 with 1 Axes>"
      ]
     },
     "metadata": {},
     "output_type": "display_data"
    }
   ],
   "source": [
    "# color map Each color represents a species\n",
    "val_map = {0: 1.0,\n",
    "           1: 0.5714285714285714,\n",
    "           2: 0.0}\n",
    "\n",
    "values = [val_map.get(y[node], 0.25) for node in g.nodes()]\n",
    "\n",
    "\n",
    "nx.draw(g, cmap=plt.get_cmap('jet'), node_color=values)\n",
    "\n",
    "plt.show()"
   ]
  },
  {
   "cell_type": "markdown",
   "metadata": {},
   "source": [
    "** We can Clearly see that there is some form of clustering happening but let's visualize this much better using Plotly **"
   ]
  },
  {
   "cell_type": "markdown",
   "metadata": {},
   "source": [
    "## Visualizing a network using Plotly"
   ]
  },
  {
   "cell_type": "code",
   "execution_count": 28,
   "metadata": {
    "collapsed": true
   },
   "outputs": [],
   "source": [
    "# get the data\n",
    "data = y\n",
    "\n",
    "# create a location for all the nodes\n",
    "pos = nx.fruchterman_reingold_layout(g)\n",
    " \n",
    "# create position attribute for each node    \n",
    "nx.set_node_attributes(g, 'pos', pos)\n",
    "dmin=1\n",
    "ncenter=0\n",
    "for n in pos:\n",
    "    x,y=pos[n]\n",
    "    d=(x-0.5)**2+(y-0.5)**2\n",
    "    if d<dmin:\n",
    "        ncenter=n\n",
    "        dmin=d\n",
    "\n",
    "p=nx.single_source_shortest_path_length(g,ncenter)"
   ]
  },
  {
   "cell_type": "code",
   "execution_count": 29,
   "metadata": {
    "collapsed": true
   },
   "outputs": [],
   "source": [
    "label_map = {0: 'setosa',\n",
    "           1: 'versicolor',\n",
    "           2: 'virginica'}\n",
    "\n",
    "labels = [label_map.get(data[node]) for node in g.nodes()]"
   ]
  },
  {
   "cell_type": "code",
   "execution_count": 30,
   "metadata": {
    "collapsed": true
   },
   "outputs": [],
   "source": [
    "edge_trace = Scatter(\n",
    "    x=[],\n",
    "    y=[],\n",
    "    line=Line(width=0.5,color='#888'),\n",
    "    hoverinfo='none',\n",
    "    mode='lines')\n",
    "\n",
    "for edge in g.edges():\n",
    "    x0, y0 = g.node[edge[0]]['pos']\n",
    "    x1, y1 = g.node[edge[1]]['pos']\n",
    "    edge_trace['x'] += [x0, x1, None]\n",
    "    edge_trace['y'] += [y0, y1, None]\n",
    "\n",
    "node_trace = Scatter(\n",
    "    x=[],\n",
    "    y=[],\n",
    "    text=[],\n",
    "    mode='markers',\n",
    "    hoverinfo='text',\n",
    "    marker=Marker(\n",
    "        showscale=True,\n",
    "        reversescale=True,\n",
    "        color=[],\n",
    "        size=20,\n",
    "        colorbar=dict(\n",
    "            thickness=3,\n",
    "            title='target type',\n",
    "            xanchor='left',\n",
    "            titleside='right'\n",
    "        ),\n",
    "        line=dict(width=2)))\n",
    "\n",
    "for node in g.nodes():\n",
    "    x, y = g.node[node]['pos']\n",
    "    node_trace['x'].append(x)\n",
    "    node_trace['y'].append(y)"
   ]
  },
  {
   "cell_type": "code",
   "execution_count": 31,
   "metadata": {
    "collapsed": true
   },
   "outputs": [],
   "source": [
    "for node, adjacencies in enumerate(g.adjacency_list()):\n",
    "    node_trace['marker']['color'].append(values[node])\n",
    "    node_info = '# of connections: '+str(len(adjacencies))\n",
    "    node_trace['text'].append(node_info)"
   ]
  },
  {
   "cell_type": "code",
   "execution_count": 32,
   "metadata": {},
   "outputs": [
    {
     "data": {
      "text/html": [
       "<iframe id=\"igraph\" scrolling=\"no\" style=\"border:none;\" seamless=\"seamless\" src=\"https://plot.ly/~jigull/16.embed\" height=\"525px\" width=\"100%\"></iframe>"
      ],
      "text/plain": [
       "<plotly.tools.PlotlyDisplay object>"
      ]
     },
     "execution_count": 32,
     "metadata": {},
     "output_type": "execute_result"
    }
   ],
   "source": [
    "fig = Figure(data=Data([edge_trace, node_trace]),\n",
    "             layout=Layout(\n",
    "                title='<br>Network graph of Iris dataset',\n",
    "                titlefont=dict(size=16),\n",
    "                showlegend=False,\n",
    "                hovermode='closest',\n",
    "                margin=dict(b=10,l=5,r=5,t=40),\n",
    "                annotations=\n",
    "                 [ dict(\n",
    "                    text=\"By: Siavash Mortezavi\",\n",
    "                    showarrow=False,\n",
    "                    xref=\"paper\", yref=\"paper\",\n",
    "                    x=0.005, y=-0.002 ) ],\n",
    "                xaxis=XAxis(showgrid=False, zeroline=False, showticklabels=False),\n",
    "                yaxis=YAxis(showgrid=False, zeroline=False, showticklabels=False)))\n",
    "\n",
    "py.iplot(fig, filename='networkx')"
   ]
  },
  {
   "cell_type": "markdown",
   "metadata": {},
   "source": [
    "** It's seems like doing a simple l2 distance between data sets groups similar flower types together **"
   ]
  },
  {
   "cell_type": "markdown",
   "metadata": {
    "collapsed": true
   },
   "source": [
    "## Extra Network Analysis"
   ]
  },
  {
   "cell_type": "code",
   "execution_count": 33,
   "metadata": {},
   "outputs": [
    {
     "data": {
      "image/png": "[encoded data removed]",
      "text/plain": [
       "<Figure size 432x288 with 1 Axes>"
      ]
     },
     "metadata": {},
     "output_type": "display_data"
    },
    {
     "name": "stdout",
     "output_type": "stream",
     "text": [
      "Network density: 0.052527964205816555\n",
      "This low density implies that this is a sparse network\n",
      "\n",
      "Transitivity: 0.6306569343065693\n",
      "This is higher than usual implying connected components\n",
      "\n",
      "connected: False\n",
      "This is not a connected graph further analysis will be needed to identify connected components\n",
      "\n",
      "Network diameter of largest component: 8\n",
      "This data is pretty globally seperated\n",
      "\n",
      "Triadic closure: 0.6306569343065693\n",
      "\n"
     ]
    }
   ],
   "source": [
    "val_map = {0: 1.0,\n",
    "           1: 0.5714285714285714,\n",
    "           2: 0.0}\n",
    "\n",
    "values = [val_map.get(data[node], 0.25) for node in g.nodes()]\n",
    "\n",
    "\n",
    "nx.draw(g, cmap=plt.get_cmap('jet'), node_color=values)\n",
    "\n",
    "plt.show()\n",
    "\n",
    "\n",
    "density = nx.density(g)\n",
    "print(\"Network density:\", density)\n",
    "print(\"This low density implies that this is a sparse network\")\n",
    "print(\"\")\n",
    "print('Transitivity:', nx.transitivity(g))\n",
    "print('This is higher than usual implying connected components')\n",
    "print(\"\")\n",
    "# If your Graph has more than one component, this will return False:\n",
    "print('connected:',nx.is_connected(g))\n",
    "print('This is not a connected graph further analysis will be needed to identify connected components')\n",
    "print(\"\")\n",
    "# Next, use nx.connected_components to get the list of components,\n",
    "# then use the max() command to find the largest one:\n",
    "components = nx.connected_components(g)\n",
    "largest_component = max(components, key=len)\n",
    "\n",
    "# Create a \"subgraph\" of just the largest component\n",
    "# Then calculate the diameter of the subgraph, just like you did with density.\n",
    "#\n",
    "\n",
    "subgraph = g.subgraph(largest_component)\n",
    "diameter = nx.diameter(subgraph)\n",
    "print(\"Network diameter of largest component:\", diameter)\n",
    "print(\"This data is pretty globally seperated\")\n",
    "print(\"\")\n",
    "triadic_closure = nx.transitivity(g)\n",
    "print(\"Triadic closure:\", triadic_closure)\n",
    "print(\"\")"
   ]
  },
  {
   "cell_type": "code",
   "execution_count": null,
   "metadata": {
    "collapsed": true
   },
   "outputs": [],
   "source": []
  }
 ],
 "metadata": {
  "kernelspec": {
   "display_name": "Python 3",
   "language": "python",
   "name": "python3"
  },
  "language_info": {
   "codemirror_mode": {
    "name": "ipython",
    "version": 3
   },
   "file_extension": ".py",
   "mimetype": "text/x-python",
   "name": "python",
   "nbconvert_exporter": "python",
   "pygments_lexer": "ipython3",
   "version": "3.6.2"
  }
 },
 "nbformat": 4,
 "nbformat_minor": 2
}
